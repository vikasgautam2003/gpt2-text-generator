{
 "cells": [
  {
   "cell_type": "code",
   "execution_count": null,
   "id": "8550886b",
   "metadata": {
    "vscode": {
     "languageId": "plaintext"
    }
   },
   "outputs": [],
   "source": [
    "!pip install transformers torch\n",
    "\n",
    "from transformers import pipeline\n",
    "\n",
    "generator = pipeline(\"text-generation\", model=\"gpt2\")\n",
    "\n",
    "output = generator(\"Bharat ka AI future\", max_new_tokens=50, num_return_sequences=1)\n",
    "\n",
    "print(output[0][\"generated_text\"])\n",
    "print(text)"
   ]
  }
 ],
 "metadata": {
  "language_info": {
   "name": "python"
  }
 },
 "nbformat": 4,
 "nbformat_minor": 5
}
